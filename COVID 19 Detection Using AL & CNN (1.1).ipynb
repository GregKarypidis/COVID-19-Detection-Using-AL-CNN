{
 "cells": [
  {
   "cell_type": "code",
   "execution_count": 1,
   "id": "610b69f4",
   "metadata": {},
   "outputs": [],
   "source": [
    "import os\n",
    "import random\n",
    "import numpy as np\n",
    "import tensorflow as tf\n",
    "import tensorflow_datasets as tfds\n",
    "from PIL import Image\n",
    "from sklearn.model_selection import train_test_split\n",
    "from tensorflow.keras.layers import Dense, Conv2D, MaxPooling2D, Flatten, Dropout\n",
    "from tensorflow.keras.models import Sequential\n",
    "from tensorflow.keras.optimizers import Adam\n",
    "from tensorflow.keras.preprocessing.image import ImageDataGenerator\n",
    "from tensorflow.keras.utils import to_categorical\n",
    "import matplotlib.pyplot as plt\n",
    "from sklearn.preprocessing import LabelEncoder"
   ]
  },
  {
   "cell_type": "code",
   "execution_count": 2,
   "id": "56ed8386",
   "metadata": {},
   "outputs": [],
   "source": [
    "# specify the paths to the directories containing the images\n",
    "non_COVID = r'C:\\Users\\karip\\OneDrive\\PC\\Centre\\University\\Classes\\Digital Processing of Biosignals\\Assignments\\COVID 19 Detection using AL and CNN\\Dataset\\non-COVID'\n",
    "COVID = r'C:\\Users\\karip\\OneDrive\\PC\\Centre\\University\\Classes\\Digital Processing of Biosignals\\Assignments\\COVID 19 Detection using AL and CNN\\Dataset\\COVID'"
   ]
  },
  {
   "cell_type": "code",
   "execution_count": 3,
   "id": "f59c5201",
   "metadata": {},
   "outputs": [],
   "source": [
    "# Set the batch size and epochs for training\n",
    "batch_size = 16\n",
    "epochs = 10"
   ]
  },
  {
   "cell_type": "code",
   "execution_count": 4,
   "id": "741574e0",
   "metadata": {},
   "outputs": [],
   "source": [
    "# Set the number of uncertain instances to select in each active learning iteration\n",
    "n_uncertain = 5"
   ]
  },
  {
   "cell_type": "code",
   "execution_count": 5,
   "id": "a832f08a",
   "metadata": {},
   "outputs": [],
   "source": [
    "# Initialize lists to store the images and labels\n",
    "images = []\n",
    "labels = []"
   ]
  },
  {
   "cell_type": "code",
   "execution_count": 6,
   "id": "77b4a751",
   "metadata": {},
   "outputs": [],
   "source": [
    "# Load the images and labels from the non-COVID and COVID directories\n",
    "for image_dir, label in [(non_COVID, 0), (COVID, 1)]:\n",
    "    filenames = os.listdir(image_dir)\n",
    "    for filename in filenames:\n",
    "        img = Image.open(os.path.join(image_dir, filename))\n",
    "        img = img.convert('RGB')\n",
    "        img = img.resize((64, 64))\n",
    "        img = np.array(img)\n",
    "        images.append(img)\n",
    "        labels.append(label)"
   ]
  },
  {
   "cell_type": "code",
   "execution_count": 7,
   "id": "f55609bc",
   "metadata": {},
   "outputs": [],
   "source": [
    "# Convert the images and labels to numpy arrays\n",
    "images = np.array(images)\n",
    "labels = np.array(labels)"
   ]
  },
  {
   "cell_type": "code",
   "execution_count": 8,
   "id": "ae924b9d",
   "metadata": {},
   "outputs": [],
   "source": [
    "X_train, X_test, y_train, y_test = train_test_split(images, labels, test_size=0.2, random_state=42)\n",
    "X_train, X_val, y_train, y_val = train_test_split(X_train, y_train, test_size=0.2, random_state=42)"
   ]
  },
  {
   "cell_type": "code",
   "execution_count": 9,
   "id": "13db0ccc",
   "metadata": {},
   "outputs": [],
   "source": [
    "# Create the train, validation, and test datasets\n",
    "train_ds = tf.data.Dataset.from_tensor_slices((X_train, y_train)).batch(batch_size).shuffle(buffer_size=len(X_train))\n",
    "val_ds = tf.data.Dataset.from_tensor_slices((X_val, y_val)).batch(batch_size)\n",
    "test_ds = tf.data.Dataset.from_tensor_slices((X_test, y_test)).batch(batch_size)"
   ]
  },
  {
   "cell_type": "code",
   "execution_count": 10,
   "id": "fdad7c64",
   "metadata": {},
   "outputs": [
    {
     "name": "stdout",
     "output_type": "stream",
     "text": [
      "Number of samples in each set (train, val, test): (1587, 397, 497)\n",
      "Number of positive samples in each set: (797, 196, 259)\n",
      "2481\n"
     ]
    }
   ],
   "source": [
    "print(f'Number of samples in each set (train, val, test): {len(y_train), len(y_val), len(y_test)}')\n",
    "print(f'Number of positive samples in each set: {y_train.sum(), y_val.sum(), y_test.sum()}')\n",
    "print(len(y_train)+len(y_val)+len(y_test))"
   ]
  },
  {
   "cell_type": "code",
   "execution_count": 11,
   "id": "14d63d68",
   "metadata": {},
   "outputs": [],
   "source": [
    "# Initialize the model\n",
    "model = Sequential()\n",
    "\n",
    "# Add convolutional layers\n",
    "model.add(Conv2D(32, (3, 3), activation='relu', input_shape=(64, 64, 3)))\n",
    "model.add(MaxPooling2D((2, 2)))\n",
    "model.add(Conv2D(64, (3, 3), activation='relu'))\n",
    "model.add(MaxPooling2D((2, 2)))\n",
    "model.add(Conv2D(128, (3, 3), activation='relu'))\n",
    "model.add(MaxPooling2D((2, 2)))\n",
    "\n",
    "# Flatten the feature maps\n",
    "model.add(Flatten())\n",
    "\n",
    "# Add a fully connected layer\n",
    "model.add(Dense(128, activation='relu'))\n",
    "\n",
    "# Add an output layer with a single node and sigmoid activation function\n",
    "model.add(Dense(1, activation='sigmoid'))"
   ]
  },
  {
   "cell_type": "code",
   "execution_count": 12,
   "id": "063f51bc",
   "metadata": {},
   "outputs": [],
   "source": [
    "model.compile(optimizer='adam', loss='binary_crossentropy', metrics=['accuracy'])"
   ]
  },
  {
   "cell_type": "code",
   "execution_count": 13,
   "id": "edd81a2d",
   "metadata": {},
   "outputs": [],
   "source": [
    "def select_uncertain(model, images, labels):\n",
    "    # Get the model's predictions for the images\n",
    "    predictions = model.predict(images)\n",
    "    \n",
    "    # Initialize lists to store the selected images and labels\n",
    "    selected_images = []\n",
    "    selected_labels = []\n",
    "    \n",
    "    # Iterate over the images and labels\n",
    "    for image, label, prediction in zip(images, labels, predictions):\n",
    "        # Calculate the absolute difference between the prediction and the label\n",
    "        difference = abs(prediction - label)\n",
    "        \n",
    "        # If the difference is greater than a certain threshold, add the image and label to the selected lists\n",
    "        if difference > 0.5:\n",
    "            selected_images.append(image)\n",
    "            selected_labels.append(label)\n",
    "    \n",
    "    # Return the selected images and labels\n",
    "    return selected_images, selected_labels"
   ]
  },
  {
   "cell_type": "code",
   "execution_count": 170,
   "id": "eae85064",
   "metadata": {
    "scrolled": true
   },
   "outputs": [
    {
     "name": "stdout",
     "output_type": "stream",
     "text": [
      "78/78 [==============================] - 2s 27ms/step\n"
     ]
    }
   ],
   "source": [
    "# Loop until there are no more uncertain instances\n",
    "while True:\n",
    "    # Select a batch of uncertain instances\n",
    "    uncertain_images, uncertain_labels = select_uncertain(model, images, labels)\n",
    "    \n",
    "    # Break the loop if there are no more uncertain instances\n",
    "    if len(uncertain_images) == 0:\n",
    "        break\n",
    "    \n",
    "    # Take the first n_uncertain instances\n",
    "    uncertain_images = uncertain_images[:n_uncertain]\n",
    "    uncertain_labels = uncertain_labels[:n_uncertain]\n",
    "    \n",
    "    # Add the uncertain instances to the training dataset\n",
    "    train_ds = train_ds.concatenate(tf.data.Dataset.from_tensor_slices((uncertain_images, uncertain_labels)).batch(batch_size))\n",
    "    \n",
    "    # Shuffle the training dataset\n",
    "    train_ds = train_ds.shuffle(buffer_size=len(X_train))\n",
    "    \n",
    "    # Train the model on the updated training dataset\n",
    "    history = model.fit(train_ds, epochs=2, validation_data=val_ds)\n",
    "    \n",
    "    # Get the training and validation accuracy and loss for each epoch\n",
    "    accuracies = history.history['accuracy']\n",
    "    val_accuracies = history.history['val_accuracy']\n",
    "    losses = history.history['loss']\n",
    "    val_losses = history.history['val_loss']\n",
    "\n",
    "    # Initialize a figure with 2 subplots\n",
    "    #fig, ax = plt.subplots(1, 2, figsize=(10, 5))\n",
    "\n",
    "    # Plot the training and validation accuracy curves on the first subplot\n",
    "    #ax[0].plot(accuracies)\n",
    "    #ax[0].plot(val_accuracies)\n",
    "    #ax[0].set_title('Model accuracy')\n",
    "    #ax[0].set_ylabel('Accuracy')\n",
    "    #ax[0].set_xlabel('Epoch')\n",
    "    #ax[0].legend(['Training', 'Validation'], loc='upper left')\n",
    "\n",
    "    # Plot the training and validation loss curves on the second subplot\n",
    "    #ax[1].plot(losses)\n",
    "    #ax[1].plot(val_losses)\n",
    "    #ax[1].set_title('Model loss')\n",
    "    #ax[1].set_ylabel('Loss')\n",
    "    #ax[1].set_xlabel('Epoch')\n",
    "    #ax[1].legend(['Training', 'Validation'], loc='upper left')\n",
    "\n",
    "    #plt.show()"
   ]
  },
  {
   "cell_type": "code",
   "execution_count": 168,
   "id": "440680a6",
   "metadata": {},
   "outputs": [
    {
     "data": {
      "image/png": "[encoded data removed]",
      "text/plain": [
       "<Figure size 640x480 with 1 Axes>"
      ]
     },
     "metadata": {},
     "output_type": "display_data"
    }
   ],
   "source": [
    "# Plot the training and validation loss\n",
    "plt.plot(history.history['loss'])\n",
    "plt.plot(history.history['val_loss'])\n",
    "plt.title('Model loss')\n",
    "plt.ylabel('Loss')\n",
    "plt.xlabel('Epoch')\n",
    "plt.legend(['Train', 'Val'], loc='upper left')\n",
    "plt.show()"
   ]
  },
  {
   "cell_type": "code",
   "execution_count": 166,
   "id": "3620c34e",
   "metadata": {},
   "outputs": [
    {
     "name": "stdout",
     "output_type": "stream",
     "text": [
      "25/25 [==============================] - 1s 21ms/step - loss: 1.1423e-04 - accuracy: 1.0000\n",
      "Test loss: 0.0001\n",
      "Test accuracy: 1.0000\n"
     ]
    }
   ],
   "source": [
    "# Evaluate the model on the val dataset\n",
    "loss, accuracy = model.evaluate(val_ds)\n",
    "\n",
    "print(f'Test loss: {loss:.4f}')\n",
    "print(f'Test accuracy: {accuracy:.4f}')"
   ]
  },
  {
   "cell_type": "code",
   "execution_count": 171,
   "id": "c866f650",
   "metadata": {},
   "outputs": [
    {
     "name": "stdout",
     "output_type": "stream",
     "text": [
      "32/32 [==============================] - 1s 24ms/step - loss: 1.6579e-04 - accuracy: 1.0000\n",
      "Test loss: 0.0002\n",
      "Test accuracy: 1.0000\n"
     ]
    }
   ],
   "source": [
    "# Evaluate the model on the test dataset\n",
    "loss, accuracy = model.evaluate(test_ds)\n",
    "\n",
    "print(f'Test loss: {loss:.4f}')\n",
    "print(f'Test accuracy: {accuracy:.4f}')"
   ]
  },
  {
   "cell_type": "code",
   "execution_count": 165,
   "id": "1a671309",
   "metadata": {},
   "outputs": [
    {
     "name": "stdout",
     "output_type": "stream",
     "text": [
      "1/1 [==============================] - 0s 57ms/step\n",
      "COVID\n",
      "[1.]\n"
     ]
    }
   ],
   "source": [
    "##### Load the image\n",
    "image_path = r'C:\\Users\\karip\\OneDrive\\PC\\Centre\\University\\Classes\\Digital Processing of Biosignals\\Assignments\\COVID 19 Detection using AL and CNN\\My Evaluation\\7 - normal.jpg'\n",
    "image = Image.open(image_path)\n",
    "\n",
    "# Preprocess the image\n",
    "image = image.convert('RGB')\n",
    "image = image.resize((64, 64))\n",
    "image = np.array(image)\n",
    "\n",
    "# Reshape the image to match the model's input shape\n",
    "image = image.reshape(1, 64, 64, 3)\n",
    "\n",
    "# Get the model's prediction\n",
    "prediction = model.predict(image)[0]\n",
    "\n",
    "# Print the prediction\n",
    "if prediction > 0.5:\n",
    "    print('COVID')\n",
    "else:\n",
    "    print('non-COVID')\n",
    "\n",
    "# Print the probability of the prediction\n",
    "print(prediction)"
   ]
  }
 ],
 "metadata": {
  "kernelspec": {
   "display_name": "Python 3 (ipykernel)",
   "language": "python",
   "name": "python3"
  },
  "language_info": {
   "codemirror_mode": {
    "name": "ipython",
    "version": 3
   },
   "file_extension": ".py",
   "mimetype": "text/x-python",
   "name": "python",
   "nbconvert_exporter": "python",
   "pygments_lexer": "ipython3",
   "version": "3.9.13"
  }
 },
 "nbformat": 4,
 "nbformat_minor": 5
}
