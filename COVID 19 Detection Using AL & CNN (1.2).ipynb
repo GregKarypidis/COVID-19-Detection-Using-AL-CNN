{
 "cells": [
  {
   "cell_type": "code",
   "execution_count": 1,
   "id": "610b69f4",
   "metadata": {},
   "outputs": [],
   "source": [
    "import os\n",
    "import random\n",
    "import numpy as np\n",
    "import tensorflow as tf\n",
    "import tensorflow_datasets as tfds\n",
    "from PIL import Image\n",
    "from sklearn.model_selection import train_test_split\n",
    "from tensorflow.keras. layers import Dense, Conv2D, MaxPooling2D, Flatten, Dropout\n",
    "from tensorflow.keras.models import Sequential\n",
    "from tensorflow.keras.optimizers import Adam\n",
    "from tensorflow.keras.preprocessing.image import ImageDataGenerator\n",
    "from tensorflow.keras.utils import to_categorical\n",
    "import matplotlib.pyplot as plt\n",
    "from sklearn.preprocessing import LabelEncoder"
   ]
  },
  {
   "cell_type": "code",
   "execution_count": 2,
   "id": "56ed8386",
   "metadata": {},
   "outputs": [],
   "source": [
    "# Specify the paths to the directories containing the images\n",
    "non_COVID = r'C:\\Users\\karip\\OneDrive\\PC\\Centre\\University\\Classes\\Digital Processing of Biosignals\\Assignments\\COVID 19 Detection using AL and CNN\\Dataset\\non-COVID'\n",
    "COVID = r'C:\\Users\\karip\\OneDrive\\PC\\Centre\\University\\Classes\\Digital Processing of Biosignals\\Assignments\\COVID 19 Detection using AL and CNN\\Dataset\\COVID'"
   ]
  },
  {
   "cell_type": "code",
   "execution_count": 3,
   "id": "f59c5201",
   "metadata": {},
   "outputs": [],
   "source": [
    "# Set the batch size and epochs for training\n",
    "batch_size = 16\n",
    "epochs = 10\n",
    "\n",
    "# Set the number of uncertain instances to select in each active learning iteration\n",
    "n_uncertain = 5\n",
    "\n",
    "# Initialize lists to store the images and labels\n",
    "images = []\n",
    "labels = []"
   ]
  },
  {
   "cell_type": "code",
   "execution_count": 4,
   "id": "77b4a751",
   "metadata": {},
   "outputs": [],
   "source": [
    "# Load the images and labels from the non-COVID and COVID directories\n",
    "for image_dir, label in [(non_COVID, 0), (COVID, 1)]:\n",
    "    filenames = os.listdir(image_dir)\n",
    "    for filename in filenames:\n",
    "        img = Image.open(os.path.join(image_dir, filename))\n",
    "        img = img.convert('L')\n",
    "        img = img.resize((64, 64))        \n",
    "        img = np.array(img)\n",
    "        img = img / 255\n",
    "        img = np.expand_dims(img, 2)\n",
    "        images.append(img)\n",
    "        labels.append(label)"
   ]
  },
  {
   "cell_type": "code",
   "execution_count": 5,
   "id": "f55609bc",
   "metadata": {},
   "outputs": [],
   "source": [
    "# Convert the images and labels to numpy arrays\n",
    "images = np.array(images)\n",
    "labels = np.array(labels)"
   ]
  },
  {
   "cell_type": "code",
   "execution_count": 6,
   "id": "ae924b9d",
   "metadata": {},
   "outputs": [],
   "source": [
    "X_train, X_test, y_train, y_test = train_test_split(images, labels, test_size=0.2, random_state=42)\n",
    "X_train, X_val, y_train, y_val = train_test_split(X_train, y_train, test_size=0.2, random_state=42)"
   ]
  },
  {
   "cell_type": "code",
   "execution_count": 77,
   "id": "13db0ccc",
   "metadata": {},
   "outputs": [],
   "source": [
    "# Create the train, validation, and test datasets\n",
    "train_ds = tf.data.Dataset.from_tensor_slices((X_train, y_train)).batch(batch_size).shuffle(buffer_size=len(X_train))\n",
    "val_ds = tf.data.Dataset.from_tensor_slices((X_val, y_val)).batch(batch_size)\n",
    "test_ds = tf.data.Dataset.from_tensor_slices((X_test, y_test)).batch(batch_size)"
   ]
  },
  {
   "cell_type": "code",
   "execution_count": 79,
   "id": "fdad7c64",
   "metadata": {},
   "outputs": [
    {
     "name": "stdout",
     "output_type": "stream",
     "text": [
      "Number of samples in each set (train, val, test): (1587, 397, 497)\n",
      "Number of positive samples in each set: (797, 196, 259)\n",
      "2481\n",
      "1600 400 512\n"
     ]
    }
   ],
   "source": [
    "print(f'Number of samples in each set (train, val, test): {len(y_train), len(y_val), len(y_test)}')\n",
    "print(f'Number of positive samples in each set: {y_train.sum(), y_val.sum(), y_test.sum()}')\n",
    "print(len(y_train)+len(y_val)+len(y_test))\n",
    "print(len(train_ds) * 16, len(val_ds) * 16, len(test_ds) * 16)"
   ]
  },
  {
   "cell_type": "code",
   "execution_count": 9,
   "id": "14d63d68",
   "metadata": {},
   "outputs": [],
   "source": [
    "# Initialize the model\n",
    "model = Sequential()\n",
    "\n",
    "# Add convolutional layers\n",
    "model.add(Conv2D(32, (3, 3), activation='relu', input_shape=(64, 64, 1)))\n",
    "model.add(MaxPooling2D((2, 2)))\n",
    "model.add(Conv2D(64, (3, 3), activation='relu'))\n",
    "model.add(MaxPooling2D((2, 2)))\n",
    "model.add(Conv2D(128, (3, 3), activation='relu'))\n",
    "model.add(MaxPooling2D((2, 2)))\n",
    "\n",
    "# Flatten the feature maps\n",
    "model.add(Flatten())\n",
    "\n",
    "# Add a fully connected layer\n",
    "model.add(Dense(128, activation='relu'))\n",
    "\n",
    "# Add an output layer with a single node and sigmoid activation function\n",
    "model.add(Dense(1, activation='sigmoid'))"
   ]
  },
  {
   "cell_type": "code",
   "execution_count": 10,
   "id": "063f51bc",
   "metadata": {},
   "outputs": [],
   "source": [
    "model.compile(optimizer='adam', loss='binary_crossentropy', metrics=['accuracy'])"
   ]
  },
  {
   "cell_type": "code",
   "execution_count": 11,
   "id": "1b930834",
   "metadata": {},
   "outputs": [
    {
     "name": "stdout",
     "output_type": "stream",
     "text": [
      "Epoch 1/5\n",
      "50/50 [==============================] - 7s 108ms/step - loss: 0.6649 - accuracy: 0.5967 - val_loss: 0.5439 - val_accuracy: 0.7203\n",
      "Epoch 2/5\n",
      "50/50 [==============================] - 5s 101ms/step - loss: 0.5300 - accuracy: 0.7454 - val_loss: 0.4705 - val_accuracy: 0.7686\n",
      "Epoch 3/5\n",
      "50/50 [==============================] - 5s 101ms/step - loss: 0.5256 - accuracy: 0.7505 - val_loss: 0.4827 - val_accuracy: 0.7767\n",
      "Epoch 4/5\n",
      "50/50 [==============================] - 5s 101ms/step - loss: 0.4145 - accuracy: 0.8091 - val_loss: 0.4625 - val_accuracy: 0.7787\n",
      "Epoch 5/5\n",
      "50/50 [==============================] - 5s 100ms/step - loss: 0.3779 - accuracy: 0.8248 - val_loss: 0.3591 - val_accuracy: 0.8370\n"
     ]
    }
   ],
   "source": [
    "history = model.fit(X_train, y_train, validation_data=(X_test, y_test), epochs=5)"
   ]
  },
  {
   "cell_type": "code",
   "execution_count": 12,
   "id": "e423ba15",
   "metadata": {
    "scrolled": false
   },
   "outputs": [
    {
     "name": "stdout",
     "output_type": "stream",
     "text": [
      "25/25 [==============================] - 1s 20ms/step - loss: 0.3444 - accuracy: 0.8463\n"
     ]
    },
    {
     "data": {
      "image/png": "[encoded data removed]",
      "text/plain": [
       "<Figure size 640x480 with 1 Axes>"
      ]
     },
     "metadata": {},
     "output_type": "display_data"
    }
   ],
   "source": [
    "plt.plot(history.history['accuracy'], label='accuracy')\n",
    "plt.plot(history.history['val_accuracy'], label = 'val_accuracy')\n",
    "plt.xlabel('Epoch')\n",
    "plt.ylabel('Accuracy')\n",
    "plt.ylim([0.5, 1])\n",
    "plt.legend(loc='lower right')\n",
    "\n",
    "loss, accuracy = model.evaluate(val_ds)"
   ]
  },
  {
   "cell_type": "code",
   "execution_count": 13,
   "id": "24b50140",
   "metadata": {},
   "outputs": [
    {
     "name": "stdout",
     "output_type": "stream",
     "text": [
      "Model: \"sequential\"\n",
      "_________________________________________________________________\n",
      " Layer (type)                Output Shape              Param #   \n",
      "=================================================================\n",
      " conv2d (Conv2D)             (None, 62, 62, 32)        320       \n",
      "                                                                 \n",
      " max_pooling2d (MaxPooling2D  (None, 31, 31, 32)       0         \n",
      " )                                                               \n",
      "                                                                 \n",
      " conv2d_1 (Conv2D)           (None, 29, 29, 64)        18496     \n",
      "                                                                 \n",
      " max_pooling2d_1 (MaxPooling  (None, 14, 14, 64)       0         \n",
      " 2D)                                                             \n",
      "                                                                 \n",
      " conv2d_2 (Conv2D)           (None, 12, 12, 128)       73856     \n",
      "                                                                 \n",
      " max_pooling2d_2 (MaxPooling  (None, 6, 6, 128)        0         \n",
      " 2D)                                                             \n",
      "                                                                 \n",
      " flatten (Flatten)           (None, 4608)              0         \n",
      "                                                                 \n",
      " dense (Dense)               (None, 128)               589952    \n",
      "                                                                 \n",
      " dense_1 (Dense)             (None, 1)                 129       \n",
      "                                                                 \n",
      "=================================================================\n",
      "Total params: 682,753\n",
      "Trainable params: 682,753\n",
      "Non-trainable params: 0\n",
      "_________________________________________________________________\n"
     ]
    }
   ],
   "source": [
    "model.summary()"
   ]
  },
  {
   "cell_type": "code",
   "execution_count": 14,
   "id": "7b5c9fd5",
   "metadata": {},
   "outputs": [
    {
     "data": {
      "image/png": "[encoded data removed]",
      "text/plain": [
       "<IPython.core.display.Image object>"
      ]
     },
     "execution_count": 14,
     "metadata": {},
     "output_type": "execute_result"
    }
   ],
   "source": [
    "# print(X_test.shape)\n",
    "# print(X_test[0][0][0])\n",
    "# results = model.predict(X_test)\n",
    "# print(results.shape)\n",
    "tf.keras.utils.plot_model(model)"
   ]
  },
  {
   "cell_type": "code",
   "execution_count": 15,
   "id": "edd81a2d",
   "metadata": {},
   "outputs": [],
   "source": [
    "def select_uncertain(model, images, labels):\n",
    "    # Get the model's predictions for the images\n",
    "    predictions = model.predict(images)\n",
    "    \n",
    "    # Initialize lists to store the selected images and labels\n",
    "    selected_images = []\n",
    "    selected_labels = []\n",
    "    \n",
    "    # Iterate over the images and labels\n",
    "    for image, label, prediction in zip(images, labels, predictions):\n",
    "        # Calculate the absolute difference between the prediction and the label\n",
    "        difference = abs(prediction - label)\n",
    "        \n",
    "        # If the difference is greater than a certain threshold, add the image and label to the selected lists\n",
    "        if difference > 0.5:\n",
    "            selected_images.append(image)\n",
    "            selected_labels.append(label)\n",
    "    \n",
    "    # Return the selected images and labels\n",
    "    return selected_images, selected_labels"
   ]
  },
  {
   "cell_type": "code",
   "execution_count": 32,
   "id": "eae85064",
   "metadata": {
    "scrolled": true
   },
   "outputs": [
    {
     "name": "stdout",
     "output_type": "stream",
     "text": [
      "78/78 [==============================] - 2s 28ms/step\n",
      "Epoch 1/2\n",
      "108/108 [==============================] - 7s 60ms/step - loss: 0.1493 - accuracy: 0.9508 - val_loss: 0.1794 - val_accuracy: 0.9320\n",
      "Epoch 2/2\n",
      "108/108 [==============================] - 7s 60ms/step - loss: 0.0210 - accuracy: 0.9982 - val_loss: 0.2656 - val_accuracy: 0.9068\n",
      "78/78 [==============================] - 2s 25ms/step\n",
      "Epoch 1/2\n",
      "109/109 [==============================] - 7s 60ms/step - loss: 0.1094 - accuracy: 0.9706 - val_loss: 0.1566 - val_accuracy: 0.9421\n",
      "Epoch 2/2\n",
      "109/109 [==============================] - 7s 60ms/step - loss: 0.0271 - accuracy: 0.9957 - val_loss: 0.1451 - val_accuracy: 0.9471\n",
      "78/78 [==============================] - 2s 26ms/step\n",
      "Epoch 1/2\n",
      "110/110 [==============================] - 7s 60ms/step - loss: 0.0833 - accuracy: 0.9633 - val_loss: 0.1756 - val_accuracy: 0.9345\n",
      "Epoch 2/2\n",
      "110/110 [==============================] - 7s 60ms/step - loss: 0.0107 - accuracy: 0.9988 - val_loss: 0.1303 - val_accuracy: 0.9547\n",
      "78/78 [==============================] - 2s 25ms/step\n",
      "Epoch 1/2\n",
      "111/111 [==============================] - 7s 60ms/step - loss: 0.0227 - accuracy: 0.9915 - val_loss: 0.3219 - val_accuracy: 0.8917\n",
      "Epoch 2/2\n",
      "111/111 [==============================] - 7s 60ms/step - loss: 0.0248 - accuracy: 0.9915 - val_loss: 0.1121 - val_accuracy: 0.9597\n",
      "78/78 [==============================] - 2s 25ms/step\n",
      "Epoch 1/2\n",
      "112/112 [==============================] - 7s 60ms/step - loss: 0.0723 - accuracy: 0.9781 - val_loss: 0.1986 - val_accuracy: 0.9118\n",
      "Epoch 2/2\n",
      "112/112 [==============================] - 7s 59ms/step - loss: 0.0335 - accuracy: 0.9885 - val_loss: 0.0996 - val_accuracy: 0.9647\n",
      "78/78 [==============================] - 2s 25ms/step\n",
      "Epoch 1/2\n",
      "113/113 [==============================] - 7s 59ms/step - loss: 0.0330 - accuracy: 0.9885 - val_loss: 0.1805 - val_accuracy: 0.9446\n",
      "Epoch 2/2\n",
      "113/113 [==============================] - 7s 60ms/step - loss: 0.0042 - accuracy: 1.0000 - val_loss: 0.1638 - val_accuracy: 0.9496\n",
      "78/78 [==============================] - 2s 25ms/step\n",
      "Epoch 1/2\n",
      "114/114 [==============================] - 7s 60ms/step - loss: 0.0253 - accuracy: 0.9922 - val_loss: 0.1767 - val_accuracy: 0.9446\n",
      "Epoch 2/2\n",
      "114/114 [==============================] - 7s 60ms/step - loss: 0.0445 - accuracy: 0.9843 - val_loss: 0.1267 - val_accuracy: 0.9622\n",
      "78/78 [==============================] - 2s 26ms/step\n",
      "Epoch 1/2\n",
      "115/115 [==============================] - 7s 59ms/step - loss: 0.0114 - accuracy: 0.9964 - val_loss: 0.2593 - val_accuracy: 0.9244\n",
      "Epoch 2/2\n",
      "115/115 [==============================] - 7s 60ms/step - loss: 0.0209 - accuracy: 0.9928 - val_loss: 0.0911 - val_accuracy: 0.9698\n",
      "78/78 [==============================] - 2s 26ms/step\n",
      "Epoch 1/2\n",
      "116/116 [==============================] - 7s 59ms/step - loss: 0.0033 - accuracy: 0.9994 - val_loss: 0.1314 - val_accuracy: 0.9647\n",
      "Epoch 2/2\n",
      "116/116 [==============================] - 7s 59ms/step - loss: 9.4746e-04 - accuracy: 1.0000 - val_loss: 0.1152 - val_accuracy: 0.9647\n",
      "78/78 [==============================] - 2s 25ms/step\n",
      "Epoch 1/2\n",
      "117/117 [==============================] - 7s 58ms/step - loss: 0.0872 - accuracy: 0.9653 - val_loss: 0.0729 - val_accuracy: 0.9798\n",
      "Epoch 2/2\n",
      "117/117 [==============================] - 7s 59ms/step - loss: 0.0720 - accuracy: 0.9767 - val_loss: 0.4919 - val_accuracy: 0.8766\n",
      "78/78 [==============================] - 2s 25ms/step\n",
      "Epoch 1/2\n",
      "118/118 [==============================] - 7s 58ms/step - loss: 0.0083 - accuracy: 0.9982 - val_loss: 0.0998 - val_accuracy: 0.9748\n",
      "Epoch 2/2\n",
      "118/118 [==============================] - 7s 59ms/step - loss: 0.0014 - accuracy: 1.0000 - val_loss: 0.1073 - val_accuracy: 0.9723\n",
      "78/78 [==============================] - 2s 25ms/step\n",
      "Epoch 1/2\n",
      "119/119 [==============================] - 7s 59ms/step - loss: 0.0367 - accuracy: 0.9869 - val_loss: 0.0636 - val_accuracy: 0.9824\n",
      "Epoch 2/2\n",
      "119/119 [==============================] - 7s 59ms/step - loss: 0.0332 - accuracy: 0.9887 - val_loss: 0.1181 - val_accuracy: 0.9698\n",
      "78/78 [==============================] - 2s 26ms/step\n",
      "Epoch 1/2\n",
      "120/120 [==============================] - 7s 58ms/step - loss: 0.2330 - accuracy: 0.9247 - val_loss: 0.1369 - val_accuracy: 0.9547\n",
      "Epoch 2/2\n",
      "120/120 [==============================] - 7s 59ms/step - loss: 0.0228 - accuracy: 0.9947 - val_loss: 0.1282 - val_accuracy: 0.9421\n",
      "78/78 [==============================] - 2s 26ms/step\n",
      "Epoch 1/2\n",
      "121/121 [==============================] - 7s 58ms/step - loss: 0.0201 - accuracy: 0.9929 - val_loss: 0.0743 - val_accuracy: 0.9748\n",
      "Epoch 2/2\n",
      "121/121 [==============================] - 7s 58ms/step - loss: 0.0068 - accuracy: 0.9988 - val_loss: 0.1420 - val_accuracy: 0.9547\n",
      "78/78 [==============================] - 2s 25ms/step\n",
      "Epoch 1/2\n",
      "122/122 [==============================] - 7s 58ms/step - loss: 0.0123 - accuracy: 0.9971 - val_loss: 0.0825 - val_accuracy: 0.9773\n",
      "Epoch 2/2\n",
      "122/122 [==============================] - 7s 58ms/step - loss: 0.0017 - accuracy: 1.0000 - val_loss: 0.0635 - val_accuracy: 0.9824\n",
      "78/78 [==============================] - 2s 25ms/step\n",
      "Epoch 1/2\n",
      "123/123 [==============================] - 7s 57ms/step - loss: 0.1304 - accuracy: 0.9600 - val_loss: 0.3047 - val_accuracy: 0.8690\n",
      "Epoch 2/2\n",
      "123/123 [==============================] - 7s 57ms/step - loss: 0.0987 - accuracy: 0.9653 - val_loss: 0.1586 - val_accuracy: 0.9446\n",
      "78/78 [==============================] - 2s 25ms/step\n",
      "Epoch 1/2\n",
      "124/124 [==============================] - 7s 58ms/step - loss: 0.0095 - accuracy: 0.9994 - val_loss: 0.0909 - val_accuracy: 0.9698\n",
      "Epoch 2/2\n",
      "124/124 [==============================] - 7s 57ms/step - loss: 0.0021 - accuracy: 1.0000 - val_loss: 0.0601 - val_accuracy: 0.9773\n",
      "78/78 [==============================] - 2s 25ms/step\n",
      "Epoch 1/2\n",
      "125/125 [==============================] - 7s 57ms/step - loss: 0.0651 - accuracy: 0.9731 - val_loss: 0.1096 - val_accuracy: 0.9673\n",
      "Epoch 2/2\n",
      "125/125 [==============================] - 7s 57ms/step - loss: 0.0163 - accuracy: 0.9953 - val_loss: 0.0752 - val_accuracy: 0.9824\n",
      "78/78 [==============================] - 2s 26ms/step\n",
      "Epoch 1/2\n",
      "126/126 [==============================] - 7s 58ms/step - loss: 0.1075 - accuracy: 0.9639 - val_loss: 0.0556 - val_accuracy: 0.9874\n",
      "Epoch 2/2\n",
      "126/126 [==============================] - 7s 57ms/step - loss: 0.0049 - accuracy: 1.0000 - val_loss: 0.0426 - val_accuracy: 0.9924\n",
      "78/78 [==============================] - 2s 25ms/step\n",
      "Epoch 1/2\n",
      "127/127 [==============================] - 7s 57ms/step - loss: 0.0664 - accuracy: 0.9791 - val_loss: 0.0479 - val_accuracy: 0.9874\n",
      "Epoch 2/2\n",
      "127/127 [==============================] - 7s 56ms/step - loss: 0.0068 - accuracy: 1.0000 - val_loss: 0.0139 - val_accuracy: 0.9975\n",
      "78/78 [==============================] - 2s 26ms/step\n",
      "Epoch 1/2\n",
      "128/128 [==============================] - 7s 57ms/step - loss: 0.0764 - accuracy: 0.9815 - val_loss: 0.5006 - val_accuracy: 0.8564\n",
      "Epoch 2/2\n",
      "128/128 [==============================] - 7s 56ms/step - loss: 0.0503 - accuracy: 0.9826 - val_loss: 0.0295 - val_accuracy: 0.9899\n",
      "78/78 [==============================] - 2s 26ms/step\n",
      "Epoch 1/2\n",
      "129/129 [==============================] - 7s 56ms/step - loss: 0.0393 - accuracy: 0.9838 - val_loss: 0.0197 - val_accuracy: 0.9975\n",
      "Epoch 2/2\n",
      "129/129 [==============================] - 7s 56ms/step - loss: 0.0029 - accuracy: 1.0000 - val_loss: 0.0089 - val_accuracy: 0.9975\n",
      "78/78 [==============================] - 2s 25ms/step\n",
      "Epoch 1/2\n",
      "130/130 [==============================] - 7s 56ms/step - loss: 0.0305 - accuracy: 0.9902 - val_loss: 0.1120 - val_accuracy: 0.9572\n",
      "Epoch 2/2\n",
      "130/130 [==============================] - 7s 56ms/step - loss: 0.0461 - accuracy: 0.9839 - val_loss: 0.0138 - val_accuracy: 0.9975\n",
      "78/78 [==============================] - 2s 26ms/step\n",
      "Epoch 1/2\n",
      "131/131 [==============================] - 7s 56ms/step - loss: 0.0420 - accuracy: 0.9851 - val_loss: 0.0162 - val_accuracy: 1.0000\n",
      "Epoch 2/2\n",
      "131/131 [==============================] - 7s 56ms/step - loss: 0.0036 - accuracy: 1.0000 - val_loss: 0.0081 - val_accuracy: 1.0000\n",
      "78/78 [==============================] - 2s 26ms/step\n",
      "Epoch 1/2\n",
      " 32/132 [======>.......................] - ETA: 5s - loss: 0.0014 - accuracy: 1.0000"
     ]
    },
    {
     "ename": "KeyboardInterrupt",
     "evalue": "",
     "output_type": "error",
     "traceback": [
      "\u001b[1;31m---------------------------------------------------------------------------\u001b[0m",
      "\u001b[1;31mKeyboardInterrupt\u001b[0m                         Traceback (most recent call last)",
      "\u001b[1;32m~\\AppData\\Local\\Temp\\ipykernel_25568\\872505743.py\u001b[0m in \u001b[0;36m<module>\u001b[1;34m\u001b[0m\n\u001b[0;32m     22\u001b[0m \u001b[1;33m\u001b[0m\u001b[0m\n\u001b[0;32m     23\u001b[0m     \u001b[1;31m# Train the model on the updated training dataset\u001b[0m\u001b[1;33m\u001b[0m\u001b[1;33m\u001b[0m\u001b[0m\n\u001b[1;32m---> 24\u001b[1;33m     \u001b[0mhistory\u001b[0m \u001b[1;33m=\u001b[0m \u001b[0mmodel\u001b[0m\u001b[1;33m.\u001b[0m\u001b[0mfit\u001b[0m\u001b[1;33m(\u001b[0m\u001b[0mtrain_ds\u001b[0m\u001b[1;33m,\u001b[0m \u001b[0mepochs\u001b[0m\u001b[1;33m=\u001b[0m\u001b[1;36m2\u001b[0m\u001b[1;33m,\u001b[0m \u001b[0mvalidation_data\u001b[0m\u001b[1;33m=\u001b[0m\u001b[0mval_ds\u001b[0m\u001b[1;33m)\u001b[0m\u001b[1;33m\u001b[0m\u001b[1;33m\u001b[0m\u001b[0m\n\u001b[0m\u001b[0;32m     25\u001b[0m     \u001b[1;31m# print(history.history)\u001b[0m\u001b[1;33m\u001b[0m\u001b[1;33m\u001b[0m\u001b[0m\n\u001b[0;32m     26\u001b[0m \u001b[1;33m\u001b[0m\u001b[0m\n",
      "\u001b[1;32m~\\anaconda3\\lib\\site-packages\\keras\\utils\\traceback_utils.py\u001b[0m in \u001b[0;36merror_handler\u001b[1;34m(*args, **kwargs)\u001b[0m\n\u001b[0;32m     63\u001b[0m         \u001b[0mfiltered_tb\u001b[0m \u001b[1;33m=\u001b[0m \u001b[1;32mNone\u001b[0m\u001b[1;33m\u001b[0m\u001b[1;33m\u001b[0m\u001b[0m\n\u001b[0;32m     64\u001b[0m         \u001b[1;32mtry\u001b[0m\u001b[1;33m:\u001b[0m\u001b[1;33m\u001b[0m\u001b[1;33m\u001b[0m\u001b[0m\n\u001b[1;32m---> 65\u001b[1;33m             \u001b[1;32mreturn\u001b[0m \u001b[0mfn\u001b[0m\u001b[1;33m(\u001b[0m\u001b[1;33m*\u001b[0m\u001b[0margs\u001b[0m\u001b[1;33m,\u001b[0m \u001b[1;33m**\u001b[0m\u001b[0mkwargs\u001b[0m\u001b[1;33m)\u001b[0m\u001b[1;33m\u001b[0m\u001b[1;33m\u001b[0m\u001b[0m\n\u001b[0m\u001b[0;32m     66\u001b[0m         \u001b[1;32mexcept\u001b[0m \u001b[0mException\u001b[0m \u001b[1;32mas\u001b[0m \u001b[0me\u001b[0m\u001b[1;33m:\u001b[0m\u001b[1;33m\u001b[0m\u001b[1;33m\u001b[0m\u001b[0m\n\u001b[0;32m     67\u001b[0m             \u001b[0mfiltered_tb\u001b[0m \u001b[1;33m=\u001b[0m \u001b[0m_process_traceback_frames\u001b[0m\u001b[1;33m(\u001b[0m\u001b[0me\u001b[0m\u001b[1;33m.\u001b[0m\u001b[0m__traceback__\u001b[0m\u001b[1;33m)\u001b[0m\u001b[1;33m\u001b[0m\u001b[1;33m\u001b[0m\u001b[0m\n",
      "\u001b[1;32m~\\anaconda3\\lib\\site-packages\\keras\\engine\\training.py\u001b[0m in \u001b[0;36mfit\u001b[1;34m(self, x, y, batch_size, epochs, verbose, callbacks, validation_split, validation_data, shuffle, class_weight, sample_weight, initial_epoch, steps_per_epoch, validation_steps, validation_batch_size, validation_freq, max_queue_size, workers, use_multiprocessing)\u001b[0m\n\u001b[0;32m   1648\u001b[0m                         ):\n\u001b[0;32m   1649\u001b[0m                             \u001b[0mcallbacks\u001b[0m\u001b[1;33m.\u001b[0m\u001b[0mon_train_batch_begin\u001b[0m\u001b[1;33m(\u001b[0m\u001b[0mstep\u001b[0m\u001b[1;33m)\u001b[0m\u001b[1;33m\u001b[0m\u001b[1;33m\u001b[0m\u001b[0m\n\u001b[1;32m-> 1650\u001b[1;33m                             \u001b[0mtmp_logs\u001b[0m \u001b[1;33m=\u001b[0m \u001b[0mself\u001b[0m\u001b[1;33m.\u001b[0m\u001b[0mtrain_function\u001b[0m\u001b[1;33m(\u001b[0m\u001b[0miterator\u001b[0m\u001b[1;33m)\u001b[0m\u001b[1;33m\u001b[0m\u001b[1;33m\u001b[0m\u001b[0m\n\u001b[0m\u001b[0;32m   1651\u001b[0m                             \u001b[1;32mif\u001b[0m \u001b[0mdata_handler\u001b[0m\u001b[1;33m.\u001b[0m\u001b[0mshould_sync\u001b[0m\u001b[1;33m:\u001b[0m\u001b[1;33m\u001b[0m\u001b[1;33m\u001b[0m\u001b[0m\n\u001b[0;32m   1652\u001b[0m                                 \u001b[0mcontext\u001b[0m\u001b[1;33m.\u001b[0m\u001b[0masync_wait\u001b[0m\u001b[1;33m(\u001b[0m\u001b[1;33m)\u001b[0m\u001b[1;33m\u001b[0m\u001b[1;33m\u001b[0m\u001b[0m\n",
      "\u001b[1;32m~\\anaconda3\\lib\\site-packages\\tensorflow\\python\\util\\traceback_utils.py\u001b[0m in \u001b[0;36merror_handler\u001b[1;34m(*args, **kwargs)\u001b[0m\n\u001b[0;32m    148\u001b[0m     \u001b[0mfiltered_tb\u001b[0m \u001b[1;33m=\u001b[0m \u001b[1;32mNone\u001b[0m\u001b[1;33m\u001b[0m\u001b[1;33m\u001b[0m\u001b[0m\n\u001b[0;32m    149\u001b[0m     \u001b[1;32mtry\u001b[0m\u001b[1;33m:\u001b[0m\u001b[1;33m\u001b[0m\u001b[1;33m\u001b[0m\u001b[0m\n\u001b[1;32m--> 150\u001b[1;33m       \u001b[1;32mreturn\u001b[0m \u001b[0mfn\u001b[0m\u001b[1;33m(\u001b[0m\u001b[1;33m*\u001b[0m\u001b[0margs\u001b[0m\u001b[1;33m,\u001b[0m \u001b[1;33m**\u001b[0m\u001b[0mkwargs\u001b[0m\u001b[1;33m)\u001b[0m\u001b[1;33m\u001b[0m\u001b[1;33m\u001b[0m\u001b[0m\n\u001b[0m\u001b[0;32m    151\u001b[0m     \u001b[1;32mexcept\u001b[0m \u001b[0mException\u001b[0m \u001b[1;32mas\u001b[0m \u001b[0me\u001b[0m\u001b[1;33m:\u001b[0m\u001b[1;33m\u001b[0m\u001b[1;33m\u001b[0m\u001b[0m\n\u001b[0;32m    152\u001b[0m       \u001b[0mfiltered_tb\u001b[0m \u001b[1;33m=\u001b[0m \u001b[0m_process_traceback_frames\u001b[0m\u001b[1;33m(\u001b[0m\u001b[0me\u001b[0m\u001b[1;33m.\u001b[0m\u001b[0m__traceback__\u001b[0m\u001b[1;33m)\u001b[0m\u001b[1;33m\u001b[0m\u001b[1;33m\u001b[0m\u001b[0m\n",
      "\u001b[1;32m~\\anaconda3\\lib\\site-packages\\tensorflow\\python\\eager\\polymorphic_function\\polymorphic_function.py\u001b[0m in \u001b[0;36m__call__\u001b[1;34m(self, *args, **kwds)\u001b[0m\n\u001b[0;32m    878\u001b[0m \u001b[1;33m\u001b[0m\u001b[0m\n\u001b[0;32m    879\u001b[0m       \u001b[1;32mwith\u001b[0m \u001b[0mOptionalXlaContext\u001b[0m\u001b[1;33m(\u001b[0m\u001b[0mself\u001b[0m\u001b[1;33m.\u001b[0m\u001b[0m_jit_compile\u001b[0m\u001b[1;33m)\u001b[0m\u001b[1;33m:\u001b[0m\u001b[1;33m\u001b[0m\u001b[1;33m\u001b[0m\u001b[0m\n\u001b[1;32m--> 880\u001b[1;33m         \u001b[0mresult\u001b[0m \u001b[1;33m=\u001b[0m \u001b[0mself\u001b[0m\u001b[1;33m.\u001b[0m\u001b[0m_call\u001b[0m\u001b[1;33m(\u001b[0m\u001b[1;33m*\u001b[0m\u001b[0margs\u001b[0m\u001b[1;33m,\u001b[0m \u001b[1;33m**\u001b[0m\u001b[0mkwds\u001b[0m\u001b[1;33m)\u001b[0m\u001b[1;33m\u001b[0m\u001b[1;33m\u001b[0m\u001b[0m\n\u001b[0m\u001b[0;32m    881\u001b[0m \u001b[1;33m\u001b[0m\u001b[0m\n\u001b[0;32m    882\u001b[0m       \u001b[0mnew_tracing_count\u001b[0m \u001b[1;33m=\u001b[0m \u001b[0mself\u001b[0m\u001b[1;33m.\u001b[0m\u001b[0mexperimental_get_tracing_count\u001b[0m\u001b[1;33m(\u001b[0m\u001b[1;33m)\u001b[0m\u001b[1;33m\u001b[0m\u001b[1;33m\u001b[0m\u001b[0m\n",
      "\u001b[1;32m~\\anaconda3\\lib\\site-packages\\tensorflow\\python\\eager\\polymorphic_function\\polymorphic_function.py\u001b[0m in \u001b[0;36m_call\u001b[1;34m(self, *args, **kwds)\u001b[0m\n\u001b[0;32m    910\u001b[0m       \u001b[1;31m# In this case we have created variables on the first call, so we run the\u001b[0m\u001b[1;33m\u001b[0m\u001b[1;33m\u001b[0m\u001b[0m\n\u001b[0;32m    911\u001b[0m       \u001b[1;31m# defunned version which is guaranteed to never create variables.\u001b[0m\u001b[1;33m\u001b[0m\u001b[1;33m\u001b[0m\u001b[0m\n\u001b[1;32m--> 912\u001b[1;33m       \u001b[1;32mreturn\u001b[0m \u001b[0mself\u001b[0m\u001b[1;33m.\u001b[0m\u001b[0m_no_variable_creation_fn\u001b[0m\u001b[1;33m(\u001b[0m\u001b[1;33m*\u001b[0m\u001b[0margs\u001b[0m\u001b[1;33m,\u001b[0m \u001b[1;33m**\u001b[0m\u001b[0mkwds\u001b[0m\u001b[1;33m)\u001b[0m  \u001b[1;31m# pylint: disable=not-callable\u001b[0m\u001b[1;33m\u001b[0m\u001b[1;33m\u001b[0m\u001b[0m\n\u001b[0m\u001b[0;32m    913\u001b[0m     \u001b[1;32melif\u001b[0m \u001b[0mself\u001b[0m\u001b[1;33m.\u001b[0m\u001b[0m_variable_creation_fn\u001b[0m \u001b[1;32mis\u001b[0m \u001b[1;32mnot\u001b[0m \u001b[1;32mNone\u001b[0m\u001b[1;33m:\u001b[0m\u001b[1;33m\u001b[0m\u001b[1;33m\u001b[0m\u001b[0m\n\u001b[0;32m    914\u001b[0m       \u001b[1;31m# Release the lock early so that multiple threads can perform the call\u001b[0m\u001b[1;33m\u001b[0m\u001b[1;33m\u001b[0m\u001b[0m\n",
      "\u001b[1;32m~\\anaconda3\\lib\\site-packages\\tensorflow\\python\\eager\\polymorphic_function\\tracing_compiler.py\u001b[0m in \u001b[0;36m__call__\u001b[1;34m(self, *args, **kwargs)\u001b[0m\n\u001b[0;32m    132\u001b[0m       (concrete_function,\n\u001b[0;32m    133\u001b[0m        filtered_flat_args) = self._maybe_define_function(args, kwargs)\n\u001b[1;32m--> 134\u001b[1;33m     return concrete_function._call_flat(\n\u001b[0m\u001b[0;32m    135\u001b[0m         filtered_flat_args, captured_inputs=concrete_function.captured_inputs)  # pylint: disable=protected-access\n\u001b[0;32m    136\u001b[0m \u001b[1;33m\u001b[0m\u001b[0m\n",
      "\u001b[1;32m~\\anaconda3\\lib\\site-packages\\tensorflow\\python\\eager\\polymorphic_function\\monomorphic_function.py\u001b[0m in \u001b[0;36m_call_flat\u001b[1;34m(self, args, captured_inputs, cancellation_manager)\u001b[0m\n\u001b[0;32m   1743\u001b[0m         and executing_eagerly):\n\u001b[0;32m   1744\u001b[0m       \u001b[1;31m# No tape is watching; skip to running the function.\u001b[0m\u001b[1;33m\u001b[0m\u001b[1;33m\u001b[0m\u001b[0m\n\u001b[1;32m-> 1745\u001b[1;33m       return self._build_call_outputs(self._inference_function.call(\n\u001b[0m\u001b[0;32m   1746\u001b[0m           ctx, args, cancellation_manager=cancellation_manager))\n\u001b[0;32m   1747\u001b[0m     forward_backward = self._select_forward_and_backward_functions(\n",
      "\u001b[1;32m~\\anaconda3\\lib\\site-packages\\tensorflow\\python\\eager\\polymorphic_function\\monomorphic_function.py\u001b[0m in \u001b[0;36mcall\u001b[1;34m(self, ctx, args, cancellation_manager)\u001b[0m\n\u001b[0;32m    376\u001b[0m       \u001b[1;32mwith\u001b[0m \u001b[0m_InterpolateFunctionError\u001b[0m\u001b[1;33m(\u001b[0m\u001b[0mself\u001b[0m\u001b[1;33m)\u001b[0m\u001b[1;33m:\u001b[0m\u001b[1;33m\u001b[0m\u001b[1;33m\u001b[0m\u001b[0m\n\u001b[0;32m    377\u001b[0m         \u001b[1;32mif\u001b[0m \u001b[0mcancellation_manager\u001b[0m \u001b[1;32mis\u001b[0m \u001b[1;32mNone\u001b[0m\u001b[1;33m:\u001b[0m\u001b[1;33m\u001b[0m\u001b[1;33m\u001b[0m\u001b[0m\n\u001b[1;32m--> 378\u001b[1;33m           outputs = execute.execute(\n\u001b[0m\u001b[0;32m    379\u001b[0m               \u001b[0mstr\u001b[0m\u001b[1;33m(\u001b[0m\u001b[0mself\u001b[0m\u001b[1;33m.\u001b[0m\u001b[0msignature\u001b[0m\u001b[1;33m.\u001b[0m\u001b[0mname\u001b[0m\u001b[1;33m)\u001b[0m\u001b[1;33m,\u001b[0m\u001b[1;33m\u001b[0m\u001b[1;33m\u001b[0m\u001b[0m\n\u001b[0;32m    380\u001b[0m               \u001b[0mnum_outputs\u001b[0m\u001b[1;33m=\u001b[0m\u001b[0mself\u001b[0m\u001b[1;33m.\u001b[0m\u001b[0m_num_outputs\u001b[0m\u001b[1;33m,\u001b[0m\u001b[1;33m\u001b[0m\u001b[1;33m\u001b[0m\u001b[0m\n",
      "\u001b[1;32m~\\anaconda3\\lib\\site-packages\\tensorflow\\python\\eager\\execute.py\u001b[0m in \u001b[0;36mquick_execute\u001b[1;34m(op_name, num_outputs, inputs, attrs, ctx, name)\u001b[0m\n\u001b[0;32m     50\u001b[0m   \u001b[1;32mtry\u001b[0m\u001b[1;33m:\u001b[0m\u001b[1;33m\u001b[0m\u001b[1;33m\u001b[0m\u001b[0m\n\u001b[0;32m     51\u001b[0m     \u001b[0mctx\u001b[0m\u001b[1;33m.\u001b[0m\u001b[0mensure_initialized\u001b[0m\u001b[1;33m(\u001b[0m\u001b[1;33m)\u001b[0m\u001b[1;33m\u001b[0m\u001b[1;33m\u001b[0m\u001b[0m\n\u001b[1;32m---> 52\u001b[1;33m     tensors = pywrap_tfe.TFE_Py_Execute(ctx._handle, device_name, op_name,\n\u001b[0m\u001b[0;32m     53\u001b[0m                                         inputs, attrs, num_outputs)\n\u001b[0;32m     54\u001b[0m   \u001b[1;32mexcept\u001b[0m \u001b[0mcore\u001b[0m\u001b[1;33m.\u001b[0m\u001b[0m_NotOkStatusException\u001b[0m \u001b[1;32mas\u001b[0m \u001b[0me\u001b[0m\u001b[1;33m:\u001b[0m\u001b[1;33m\u001b[0m\u001b[1;33m\u001b[0m\u001b[0m\n",
      "\u001b[1;31mKeyboardInterrupt\u001b[0m: "
     ]
    }
   ],
   "source": [
    "val_acc_for = []\n",
    "train_acc_for = []\n",
    "\n",
    "# Loop until there are no more uncertain instances\n",
    "while True:\n",
    "    # Select a batch of uncertain instances\n",
    "    uncertain_images, uncertain_labels = select_uncertain(model, images, labels)\n",
    "    \n",
    "    # Break the loop if there are no more uncertain instances\n",
    "    if len(uncertain_images) == 0:\n",
    "        break\n",
    "    \n",
    "    # Take the first n_uncertain instances\n",
    "    uncertain_images = uncertain_images[:n_uncertain]\n",
    "    uncertain_labels = uncertain_labels[:n_uncertain]\n",
    "    \n",
    "    # Add the uncertain instances to the training dataset\n",
    "    train_ds = train_ds.concatenate(tf.data.Dataset.from_tensor_slices((uncertain_images, uncertain_labels)).batch(batch_size))\n",
    "    \n",
    "    # Shuffle the training dataset\n",
    "    train_ds = train_ds.shuffle(buffer_size=len(X_train))\n",
    "    \n",
    "    # Train the model on the updated training dataset\n",
    "    history = model.fit(train_ds, epochs=2, validation_data=val_ds)\n",
    "    # print(history.history)\n",
    "    \n",
    "    # Get the training and validation accuracy and loss for each epoch\n",
    "    accuracies = history.history['accuracy']\n",
    "    val_accuracies = history.history['val_accuracy']\n",
    "    losses = history.history['loss']\n",
    "    val_losses = history.history['val_loss']\n",
    "    \n",
    "    for acc1 in accuracies:\n",
    "        train_acc_for.append(acc1)\n",
    "    \n",
    "    for acc2 in val_accuracies:\n",
    "        val_acc_for.append(acc2)\n",
    "\n",
    "    # Initialize a figure with 2 subplots\n",
    "    #fig, ax = plt.subplots(1, 2, figsize=(10, 5))\n",
    "\n",
    "    # Plot the training and validation accuracy curves on the first subplot\n",
    "    #ax[0].plot(accuracies)\n",
    "    #ax[0].plot(val_accuracies)\n",
    "    #ax[0].set_title('Model accuracy')\n",
    "    #ax[0].set_ylabel('Accuracy')\n",
    "    #ax[0].set_xlabel('Epoch')\n",
    "    #ax[0].legend(['Training', 'Validation'], loc='upper left')\n",
    "\n",
    "    # Plot the training and validation loss curves on the second subplot\n",
    "    #ax[1].plot(losses)\n",
    "    #ax[1].plot(val_losses)\n",
    "    #ax[1].set_title('Model loss')\n",
    "    #ax[1].set_ylabel('Loss')\n",
    "    #ax[1].set_xlabel('Epoch')\n",
    "    #ax[1].legend(['Training', 'Validation'], loc='upper left')\n",
    "\n",
    "    #plt.show()"
   ]
  },
  {
   "cell_type": "code",
   "execution_count": 33,
   "id": "0af34470",
   "metadata": {},
   "outputs": [
    {
     "data": {
      "text/plain": [
       "<matplotlib.legend.Legend at 0x290605f20d0>"
      ]
     },
     "execution_count": 33,
     "metadata": {},
     "output_type": "execute_result"
    },
    {
     "data": {
      "image/png": "[encoded data removed]",
      "text/plain": [
       "<Figure size 640x480 with 1 Axes>"
      ]
     },
     "metadata": {},
     "output_type": "display_data"
    }
   ],
   "source": [
    "# Plot the training and validation loss\n",
    "# plt.plot(losses_for)\n",
    "# plt.plot(history.history['val_loss'])\n",
    "# plt.title('Model loss')\n",
    "# plt.ylabel('Loss')\n",
    "# plt.xlabel('Epoch')\n",
    "# plt.legend(['Train', 'Val'], loc='upper left')\n",
    "# plt.show()\n",
    "\n",
    "plt.plot(train_acc_for, label='accuracy')\n",
    "plt.plot(val_acc_for, label = 'val_accuracy')\n",
    "plt.xlabel('Epoch')\n",
    "plt.ylabel('Accuracy')\n",
    "plt.ylim([0.5, 1])\n",
    "plt.legend(loc='lower right')"
   ]
  },
  {
   "cell_type": "code",
   "execution_count": 34,
   "id": "eaa79c3b",
   "metadata": {},
   "outputs": [
    {
     "data": {
      "text/plain": [
       "{'loss': [0.04199229180812836, 0.0036478203255683184],\n",
       " 'accuracy': [0.9850660562515259, 1.0],\n",
       " 'val_loss': [0.01618969812989235, 0.00814426876604557],\n",
       " 'val_accuracy': [1.0, 1.0]}"
      ]
     },
     "execution_count": 34,
     "metadata": {},
     "output_type": "execute_result"
    }
   ],
   "source": [
    "# history.history['loss']\\\n",
    "history.history"
   ]
  },
  {
   "cell_type": "code",
   "execution_count": 36,
   "id": "3620c34e",
   "metadata": {},
   "outputs": [
    {
     "name": "stdout",
     "output_type": "stream",
     "text": [
      "25/25 [==============================] - 1s 24ms/step - loss: 0.0065 - accuracy: 1.0000\n",
      "Test loss: 0.0065\n",
      "Test accuracy: 1.0000\n"
     ]
    }
   ],
   "source": [
    "# Evaluate the model on the val dataset\n",
    "loss, accuracy = model.evaluate(val_ds)\n",
    "\n",
    "print(f'Test loss: {loss:.4f}')\n",
    "print(f'Test accuracy: {accuracy:.4f}')"
   ]
  },
  {
   "cell_type": "code",
   "execution_count": 35,
   "id": "c866f650",
   "metadata": {},
   "outputs": [
    {
     "name": "stdout",
     "output_type": "stream",
     "text": [
      "32/32 [==============================] - 1s 24ms/step - loss: 0.0063 - accuracy: 1.0000\n",
      "Test loss: 0.0063\n",
      "Test accuracy: 1.0000\n"
     ]
    }
   ],
   "source": [
    "# Evaluate the model on the test dataset\n",
    "loss, accuracy = model.evaluate(test_ds)\n",
    "\n",
    "print(f'Test loss: {loss:.4f}')\n",
    "print(f'Test accuracy: {accuracy:.4f}')"
   ]
  },
  {
   "cell_type": "code",
   "execution_count": 59,
   "id": "1a671309",
   "metadata": {
    "scrolled": false
   },
   "outputs": [
    {
     "name": "stdout",
     "output_type": "stream",
     "text": [
      "1/1 [==============================] - 0s 45ms/step\n",
      "COVID\n",
      "[1.]\n",
      "1/1 [==============================] - 0s 47ms/step\n",
      "COVID\n",
      "[1.]\n",
      "1/1 [==============================] - 0s 47ms/step\n",
      "non-COVID\n",
      "[0.]\n",
      "1/1 [==============================] - 0s 51ms/step\n",
      "COVID\n",
      "[1.]\n",
      "1/1 [==============================] - 0s 44ms/step\n",
      "non-COVID\n",
      "[0.]\n",
      "1/1 [==============================] - 0s 45ms/step\n",
      "non-COVID\n",
      "[0.]\n",
      "1/1 [==============================] - 0s 57ms/step\n",
      "COVID\n",
      "[1.]\n",
      "1/1 [==============================] - 0s 59ms/step\n",
      "COVID\n",
      "[1.]\n",
      "1/1 [==============================] - 0s 47ms/step\n",
      "COVID\n",
      "[1.]\n",
      "1/1 [==============================] - 0s 51ms/step\n",
      "COVID\n",
      "[1.]\n",
      "1/1 [==============================] - 0s 46ms/step\n",
      "non-COVID\n",
      "[0.]\n"
     ]
    }
   ],
   "source": [
    "for i in range(1, 12):\n",
    "    ##### Load the image\n",
    "    image_path = r'C:\\Users\\karip\\OneDrive\\PC\\Centre\\University\\Classes\\Digital Processing of Biosignals\\Assignments\\COVID 19 Detection using AL and CNN\\My Evaluation\\\\' + f'{i} - normal.jpg' \n",
    "    image = Image.open(image_path)\n",
    "\n",
    "    # Preprocess the image\n",
    "    image = image.convert('L')\n",
    "    image = image.resize((64, 64))\n",
    "    image = np.array(image)\n",
    "\n",
    "    # Reshape the image to match the model's input shape\n",
    "    image = image.reshape(1, 64, 64, 1)\n",
    "\n",
    "    # Get the model's prediction\n",
    "    prediction = model.predict(image)[0]\n",
    "\n",
    "    # Print the prediction\n",
    "    if prediction > 0.5:\n",
    "        print('COVID')\n",
    "    else:\n",
    "        print('non-COVID')\n",
    "\n",
    "    # Print the probability of the prediction\n",
    "    print(prediction)\n"
   ]
  },
  {
   "cell_type": "code",
   "execution_count": 60,
   "id": "e1072c19",
   "metadata": {},
   "outputs": [
    {
     "name": "stdout",
     "output_type": "stream",
     "text": [
      "1/1 [==============================] - 0s 48ms/step\n",
      "COVID\n",
      "[1.]\n",
      "1/1 [==============================] - 0s 48ms/step\n",
      "non-COVID\n",
      "[0.]\n",
      "1/1 [==============================] - 0s 54ms/step\n",
      "COVID\n",
      "[1.]\n",
      "1/1 [==============================] - 0s 57ms/step\n",
      "COVID\n",
      "[1.]\n",
      "1/1 [==============================] - 0s 55ms/step\n",
      "COVID\n",
      "[1.]\n",
      "1/1 [==============================] - 0s 57ms/step\n",
      "COVID\n",
      "[1.]\n",
      "1/1 [==============================] - 0s 52ms/step\n",
      "COVID\n",
      "[1.]\n",
      "1/1 [==============================] - 0s 47ms/step\n",
      "COVID\n",
      "[1.]\n",
      "1/1 [==============================] - 0s 65ms/step\n",
      "COVID\n",
      "[1.]\n",
      "1/1 [==============================] - 0s 50ms/step\n",
      "COVID\n",
      "[1.]\n",
      "1/1 [==============================] - 0s 46ms/step\n",
      "COVID\n",
      "[1.]\n"
     ]
    }
   ],
   "source": [
    "for i in range(1, 12):\n",
    "    ##### Load the image\n",
    "    image_path = r'C:\\Users\\karip\\OneDrive\\PC\\Centre\\University\\Classes\\Digital Processing of Biosignals\\Assignments\\COVID 19 Detection using AL and CNN\\My Evaluation\\\\' + f'{i} - covid.jpg' \n",
    "    image = Image.open(image_path)\n",
    "\n",
    "    # Preprocess the image\n",
    "    image = image.convert('L')\n",
    "    image = image.resize((64, 64))\n",
    "    image = np.array(image)\n",
    "\n",
    "    # Reshape the image to match the model's input shape\n",
    "    image = image.reshape(1, 64, 64, 1)\n",
    "\n",
    "    # Get the model's prediction\n",
    "    prediction = model.predict(image)[0]\n",
    "\n",
    "    # Print the prediction\n",
    "    if prediction > 0.5:\n",
    "        print('COVID')\n",
    "    else:\n",
    "        print('non-COVID')\n",
    "\n",
    "    # Print the probability of the prediction\n",
    "    print(prediction)\n"
   ]
  }
 ],
 "metadata": {
  "kernelspec": {
   "display_name": "Python 3 (ipykernel)",
   "language": "python",
   "name": "python3"
  },
  "language_info": {
   "codemirror_mode": {
    "name": "ipython",
    "version": 3
   },
   "file_extension": ".py",
   "mimetype": "text/x-python",
   "name": "python",
   "nbconvert_exporter": "python",
   "pygments_lexer": "ipython3",
   "version": "3.9.13"
  }
 },
 "nbformat": 4,
 "nbformat_minor": 5
}
